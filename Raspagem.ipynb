{
 "cells": [
  {
   "cell_type": "markdown",
   "id": "b8a8d53d-b157-40c7-9aa9-001accd709b9",
   "metadata": {},
   "source": [
    "# Raspagem de dados - Aplicação num site de Xadrez"
   ]
  },
  {
   "cell_type": "markdown",
   "id": "91bc507f-1f47-455b-b85a-e19b8e67dfd3",
   "metadata": {
    "tags": []
   },
   "source": [
    "## Introdução"
   ]
  },
  {
   "cell_type": "markdown",
   "id": "e6a903a8-d1e5-472d-8cf6-d3722f56c325",
   "metadata": {},
   "source": [
    "Neste notebook vou treinar como fazer raspagem de dados no site da house of chess para obter uma tabela contendo o nome do conjunto das peças, preço, seu id, tipo de madeira e altura do rei, que é por padrão o parâmetro para saber o tamanho do conjunto em geral. \n",
    "\n",
    "Importando as bibliotecas iniciais"
   ]
  },
  {
   "cell_type": "code",
   "execution_count": 2,
   "id": "d2dd4ada-a5f7-45db-a9d3-a6e19deb942f",
   "metadata": {},
   "outputs": [],
   "source": [
    "from requests import get\n",
    "from bs4 import BeautifulSoup\n",
    "from pandas import DataFrame"
   ]
  },
  {
   "cell_type": "markdown",
   "id": "e4beea84-8190-42b3-b2cf-6c992df6e140",
   "metadata": {},
   "source": [
    "O site onde está o catálogo das peças de xadrez de plástico é o que está abaixo."
   ]
  },
  {
   "cell_type": "code",
   "execution_count": 3,
   "id": "92c9ebab-dc52-46f5-a508-66d4af62826f",
   "metadata": {},
   "outputs": [],
   "source": [
    "url = 'https://www.houseofchess.com/wood-chess-pieces.html'"
   ]
  },
  {
   "cell_type": "markdown",
   "id": "ef6726a9-35ea-4651-bb55-72df8d6e8c04",
   "metadata": {},
   "source": [
    "Para acessá-lo, poderíamos simplesmente usar a função ```get``` da biblioteca requests, mas o nosso endereço de IP pode ser bloqueado se não mudarmos seu cabeçalho, que está como ```python-requests``` por padrão (esse cabeçalho é interpretado pelos sites como se um bot quisesse acessá-lo). \n",
    "\n",
    "Podemos alterá-lo digitando o seguinte:"
   ]
  },
  {
   "cell_type": "code",
   "execution_count": 4,
   "id": "0f9f80aa-8426-4919-bb6d-8b2d2dc8ddaa",
   "metadata": {},
   "outputs": [],
   "source": [
    "cabecalho = {'User-Agent': 'Mozilla/5.0 (Macintosh; Intel Mac OS X 10_11_5) AppleWebKit/537.36 (KHTML, like Gecko) Chrome/50.0.2661.102 Safari/537.36'}"
   ]
  },
  {
   "cell_type": "markdown",
   "id": "5e5d45cb-cf73-406d-8d36-d4e6f0c22f23",
   "metadata": {},
   "source": [
    "Assim, o site vai \"achar\" que é um humano que o está acessando."
   ]
  },
  {
   "cell_type": "markdown",
   "id": "c94a35b4-8bc0-4599-a371-6aad10ae1b47",
   "metadata": {},
   "source": [
    "Feito isso, vamos agora entrar de fato no site."
   ]
  },
  {
   "cell_type": "code",
   "execution_count": 5,
   "id": "2091e1fd-c733-4b7a-95a5-37bb5abcbed8",
   "metadata": {},
   "outputs": [],
   "source": [
    "pagina = get(url, headers = cabecalho)"
   ]
  },
  {
   "cell_type": "markdown",
   "id": "3c2e77a6-307d-4b82-b736-87a8a65fc34f",
   "metadata": {},
   "source": [
    "Vejamos qual é o tipo da variável ```pagina```."
   ]
  },
  {
   "cell_type": "code",
   "execution_count": 22,
   "id": "82087ce1-98c8-49e9-8880-eaf924c7e947",
   "metadata": {},
   "outputs": [
    {
     "data": {
      "text/plain": [
       "requests.models.Response"
      ]
     },
     "execution_count": 22,
     "metadata": {},
     "output_type": "execute_result"
    }
   ],
   "source": [
    "type(pagina)"
   ]
  },
  {
   "cell_type": "markdown",
   "id": "73348b9b-aea6-4afe-be29-a1eb5a43f20e",
   "metadata": {},
   "source": [
    "## Coleta de dados"
   ]
  },
  {
   "cell_type": "markdown",
   "id": "b94dd1d7-4bfe-4452-b76a-7a1854612b76",
   "metadata": {},
   "source": [
    "A string correspondente ao código em html do site está no atributo ```pagina.text```, que passaremos como argumento no BeautifulSoup."
   ]
  },
  {
   "cell_type": "code",
   "execution_count": 6,
   "id": "40b8183d-4560-4c68-9820-239dc9e6fc89",
   "metadata": {},
   "outputs": [],
   "source": [
    "sopa = BeautifulSoup(pagina.text, 'html.parser')"
   ]
  },
  {
   "cell_type": "markdown",
   "id": "1ff7b25f-d316-4da3-924c-1d8084da75ee",
   "metadata": {},
   "source": [
    "Observando o código fonte da página, podemos nos atentar à tag ```div``` cujo atributo é ```class='item_sel_wrapper'```, que contém todas as informações que queremos coletar."
   ]
  },
  {
   "cell_type": "code",
   "execution_count": 7,
   "id": "141bf2a8-88bb-4b8c-be63-f4f39b0feaea",
   "metadata": {},
   "outputs": [],
   "source": [
    "tag = sopa.find(name = 'div', class_='item_sel_wrapper')"
   ]
  },
  {
   "cell_type": "markdown",
   "id": "d4abd98a-c467-4eda-8274-1927e676f240",
   "metadata": {},
   "source": [
    "### Código do Produto"
   ]
  },
  {
   "cell_type": "markdown",
   "id": "db0be742-ef1a-4367-bc0c-2e4d0eb4f46c",
   "metadata": {},
   "source": [
    "Começando pelo código do produto, ele se encontra na tag ```div``` com atributo ```class_='item_sel_outer_mid_desc_code'```."
   ]
  },
  {
   "cell_type": "code",
   "execution_count": 8,
   "id": "55881a41-27a0-4e8e-86d8-c4865fd5d199",
   "metadata": {},
   "outputs": [
    {
     "data": {
      "text/plain": [
       "'Item# CP2485'"
      ]
     },
     "execution_count": 8,
     "metadata": {},
     "output_type": "execute_result"
    }
   ],
   "source": [
    "tag.find(name = 'div', class_='item_sel_outer_mid_desc_code').string"
   ]
  },
  {
   "cell_type": "markdown",
   "id": "d7833d60-6ebc-4925-9002-79d7064d1c86",
   "metadata": {},
   "source": [
    "Fazendo isso para todos os produtos, temos"
   ]
  },
  {
   "cell_type": "code",
   "execution_count": 9,
   "id": "cb429cac-5bc4-42f1-a22d-4bb583d20edd",
   "metadata": {},
   "outputs": [
    {
     "data": {
      "text/plain": [
       "['Item# CP2485',\n",
       " 'Item# CP1774',\n",
       " 'Item# CP3874',\n",
       " 'Item# CP2358',\n",
       " 'Item# CP2810',\n",
       " 'Item# CP7629',\n",
       " 'Item# CP9825',\n",
       " 'Item# CP7695',\n",
       " 'Item# CP8278',\n",
       " 'Item# CP6872',\n",
       " 'Item# CP6725',\n",
       " 'Item# CP3320',\n",
       " 'Item# CP5113',\n",
       " 'Item# CP6505',\n",
       " 'Item# CP9769',\n",
       " 'Item# CP1478',\n",
       " 'Item# CO6780',\n",
       " 'Item# CP4098',\n",
       " 'Item# CP5760',\n",
       " 'Item# CP6964',\n",
       " 'Item# CP8657',\n",
       " 'Item# CP8623',\n",
       " 'Item# CO8065',\n",
       " 'Item# CP2412',\n",
       " 'Item# CP3943',\n",
       " 'Item# CP2793',\n",
       " 'Item# CP3167',\n",
       " 'Item# CP4905',\n",
       " 'Item# CP8544',\n",
       " 'Item# CP1097',\n",
       " 'Item# CP4685',\n",
       " 'Item# CP9759',\n",
       " 'Item# CP6687',\n",
       " 'Item# CP8474',\n",
       " 'Item# 554-76-EBZ',\n",
       " 'Item# CP7172',\n",
       " 'Item# CP7491',\n",
       " 'Item# CP2496',\n",
       " 'Item# 554-76-RRW-LSB',\n",
       " 'Item# CP8596',\n",
       " 'Item# CP1767',\n",
       " 'Item# CP2372',\n",
       " 'Item# CP8534',\n",
       " 'Item# CP2754',\n",
       " 'Item# CP7075',\n",
       " 'Item# 554-76-RW-HBR',\n",
       " 'Item# CP3012',\n",
       " 'Item# CP6893',\n",
       " 'Item# CP9603',\n",
       " 'Item# CP8751',\n",
       " 'Item# CP6958',\n",
       " 'Item# CP8383',\n",
       " 'Item# CP3677',\n",
       " 'Item# CP1512',\n",
       " 'Item# CP4183',\n",
       " 'Item# CP2568',\n",
       " 'Item# CP5343',\n",
       " 'Item# CP5431',\n",
       " 'Item# CP7501',\n",
       " 'Item# CP8020',\n",
       " 'Item# CP9409',\n",
       " 'Item# CP8982',\n",
       " 'Item# CP5086',\n",
       " 'Item# CP-DB-554-76-RW',\n",
       " 'Item# CP5335',\n",
       " 'Item# CP1051',\n",
       " 'Item# CP7546',\n",
       " 'Item# CP7862',\n",
       " 'Item# CP5229',\n",
       " 'Item# CP1286',\n",
       " 'Item# CP9942',\n",
       " 'Item# CP9146',\n",
       " 'Item# 554-87-EBZ',\n",
       " 'Item# CP1906',\n",
       " 'Item# CP2503',\n",
       " 'Item# CP3080',\n",
       " 'Item# CP4396',\n",
       " 'Item# CP5275',\n",
       " 'Item# CP6765',\n",
       " 'Item# CP9313',\n",
       " 'Item# CP6939',\n",
       " 'Item# C350ND-95-EBZ',\n",
       " 'Item# C350ND-95-KKR',\n",
       " 'Item# CP9755',\n",
       " 'Item# CP1333',\n",
       " 'Item# CP9532',\n",
       " 'Item# CP2464',\n",
       " 'Item# CP1228',\n",
       " 'Item# CP4656',\n",
       " 'Item# CP5295',\n",
       " 'Item# CP6382',\n",
       " 'Item# CP4971',\n",
       " 'Item# CP3963',\n",
       " 'Item# C350ND-95-BRW',\n",
       " 'Item# C350ND-95-BRW-BLK',\n",
       " 'Item# C350ND-95-RRW',\n",
       " 'Item# CP4290',\n",
       " 'Item# CP2513',\n",
       " 'Item# CP7739',\n",
       " 'Item# CP9645',\n",
       " 'Item# CP9927',\n",
       " 'Item# CP1146',\n",
       " 'Item# CP7081',\n",
       " 'Item# CP9269',\n",
       " 'Item# CP6319',\n",
       " 'Item# CP1832',\n",
       " 'Item# CP6592',\n",
       " 'Item# CP8521',\n",
       " 'Item# CP9988',\n",
       " 'Item# CP9798',\n",
       " 'Item# CP9006',\n",
       " 'Item# CP3271',\n",
       " 'Item# CP3999',\n",
       " 'Item# CP8633',\n",
       " 'Item# CP7314',\n",
       " 'Item# CP4405',\n",
       " 'Item# CP6345',\n",
       " 'Item# CP9767',\n",
       " 'Item# CP3924',\n",
       " 'Item# 261-4-FRCK-EBZ',\n",
       " 'Item# C350ND-102-BRW',\n",
       " 'Item# CP7924',\n",
       " 'Item# CP8243',\n",
       " 'Item# CP2280',\n",
       " 'Item# CP6921',\n",
       " 'Item# CO7215',\n",
       " 'Item# CO1425',\n",
       " 'Item# CP8769',\n",
       " 'Item# CP1338',\n",
       " 'Item# CP2362',\n",
       " 'Item# CP3247',\n",
       " 'Item# CP3855',\n",
       " 'Item# CP4542',\n",
       " 'Item# CP9818',\n",
       " 'Item# 990-95-RRW',\n",
       " 'Item# CP8168',\n",
       " 'Item# 990-102-RRW',\n",
       " 'Item# CP2605',\n",
       " 'Item# CP7310',\n",
       " 'Item# CP7456',\n",
       " 'Item# CP1980',\n",
       " 'Item# CP4957',\n",
       " 'Item# 990-102-EBZ',\n",
       " 'Item# CP7767',\n",
       " 'Item# CP6511',\n",
       " 'Item# CP4636',\n",
       " 'Item# CP7200',\n",
       " 'Item# CP4862',\n",
       " 'Item# CP1651',\n",
       " 'Item# CP6897',\n",
       " 'Item# CP5358',\n",
       " 'Item# CP4947',\n",
       " 'Item# CP9602',\n",
       " 'Item# CP6923',\n",
       " 'Item# 990-95-EB',\n",
       " 'Item# CP7601',\n",
       " 'Item# CP6607',\n",
       " 'Item# CP7807',\n",
       " 'Item# CP7031',\n",
       " 'Item# CP1206',\n",
       " 'Item# CP4483',\n",
       " 'Item# CP4546',\n",
       " 'Item# CP9768',\n",
       " 'Item# CP4983',\n",
       " 'Item# CP2989']"
      ]
     },
     "execution_count": 9,
     "metadata": {},
     "output_type": "execute_result"
    }
   ],
   "source": [
    "ListaCodigos = []\n",
    "\n",
    "for subtag in tag.find_all(name = 'div', class_ = 'item_sel_outer_mid_desc_code'):\n",
    "    ListaCodigos.append(subtag.string)\n",
    "    \n",
    "ListaCodigos"
   ]
  },
  {
   "cell_type": "markdown",
   "id": "5c76080f-0530-49a9-8291-f617bcde3bc0",
   "metadata": {},
   "source": [
    "### Nome do modelo"
   ]
  },
  {
   "cell_type": "markdown",
   "id": "ca1ee49e-44bd-4ccd-991a-4f34aaf64099",
   "metadata": {},
   "source": [
    "Seguindo para o nome do modelo das peças de xadrez, esta informação se encontra na primeira tag do tipo ```a``` dentro da tag ```div``` cujo atributo é ```class=\"item_sel_outer_mid_desc_title\"```."
   ]
  },
  {
   "cell_type": "code",
   "execution_count": 10,
   "id": "6c5d99a4-284f-4707-b3dd-f468754090ce",
   "metadata": {},
   "outputs": [
    {
     "data": {
      "text/plain": [
       "'Famous Staunton Wood Chess Pieces King Size 3\" Golden Rosewood/Boxwood'"
      ]
     },
     "execution_count": 10,
     "metadata": {},
     "output_type": "execute_result"
    }
   ],
   "source": [
    "tag.find(name = 'div', class_ = \"item_sel_outer_mid_desc_title\").find(name = 'a').string"
   ]
  },
  {
   "cell_type": "markdown",
   "id": "1852d7e7-4aaf-4685-8256-ca320e0000b0",
   "metadata": {},
   "source": [
    "Fazendo isso com todos os itens."
   ]
  },
  {
   "cell_type": "code",
   "execution_count": 11,
   "id": "112cd097-2ca4-4f23-9e8e-f18848e1a28a",
   "metadata": {},
   "outputs": [
    {
     "data": {
      "text/plain": [
       "['Famous Staunton Wood Chess Pieces King Size 3\" Golden Rosewood/Boxwood',\n",
       " 'Wooden Unique Staunton Chess Pieces King Size 3-1/2\" Golden Rosewood/Boxwood',\n",
       " 'Wood Chess Set Pieces Monarch Staunton King Size 3\" Golden Rosewood/Boxwood',\n",
       " 'Chess Set Pieces Sovereign Staunton 3-1/4\" Golden Rosewood/Boxwood',\n",
       " 'Famous Staunton Wood Chess Pieces King Size 3-1/4\" Golden Rosewood/Boxwood',\n",
       " 'Wood Chess Set Pieces Monarch Staunton King Size 3\" Ebonized/Boxwood',\n",
       " 'Golden Rosewood/Boxwood Unique Staunton Wooden Chess Set Pieces King size 3\" - Double Weighted',\n",
       " 'Tournament Wood Chess Set Pieces Standard Staunton 3-3/4\" Golden Rosewood/Boxwood',\n",
       " 'Wood Chess Set Pieces Monarch Staunton King Size 3-1/2\" Golden Rosewood/Boxwood',\n",
       " 'Wood Chess Set Pieces Monarch Staunton King Size 3\" Rosewood/Boxwood',\n",
       " 'Bud Rosewood/Mahogany Wood Chess Set Pieces Galaxy Staunton 3\" + 2 Extra Queens',\n",
       " 'Mahogany/Boxwood Chess Set Pieces Galaxy Staunton 3\" (76 mm) + 2 Extra Queens - Triple Weighted',\n",
       " 'Golden Rosewood/Boxwood Chess Set Pieces Galaxy Staunton 3\" + 2 Extra Queens',\n",
       " 'Golden Rosewood/Boxwood Chess Set Pieces Galaxy Staunton 3\" (76 mm) + 2 Extra Queens - Triple Weighted',\n",
       " 'Artistic Modern Pyramid Wood Chess Set Pieces King Size 3\" Gold/Black Colored',\n",
       " 'Fierce Knight Staunton Wooden Chess Pieces King Size 3\" Golden Rosewood/Boxwood',\n",
       " 'Folding Travel Magnetic Chess Set & Backgammon Combo 7\"x5\" Golden Rosewood/Maple',\n",
       " 'Popular Staunton Tournament Wood Chess Set Pieces 3-3/4\" Ebonized/Boxwood',\n",
       " 'Wood Chess Set Pieces Broad Base Staunton King Size 3-3/4\" Golden Rosewood/Boxwood',\n",
       " 'Medieval Design Wooden Weighted Theme Chess Pieces 3\" Rosewood/Boxwood',\n",
       " 'Wooden Tournament Chess Pieces Regal Staunton 3-3/4\" Golden Rosewood/Boxwood',\n",
       " 'Tournament Chess Pieces Wooden Monarch Staunton Golden Rosewood/Boxwood 3-3/4\"',\n",
       " 'Magnetic Chess Set and Inlaid White Maple Floor Backgammon Combo with Push Drawer 7-1/2\" Golden Rosewood/Maple',\n",
       " 'Wenge/Boxwood Chess Set Pieces Galaxy Staunton 3\" (76 mm) + 2 Extra Queens - Triple Weighted',\n",
       " 'Walnut/Boxwood Chess Set Pieces Galaxy Staunton 3\" (76 mm) + 2 Extra Queens - Triple Weighted',\n",
       " 'Tournament Style Popular Staunton Wooden Chess Pieces King Size 4\" Rosewoodnized/Boxwood',\n",
       " 'Tournament Style Popular Staunton Wooden Chess Pieces King Size 4\" Ebonized/Boxwood',\n",
       " 'Fierce Knight Wooden Chess Pieces King Size 3\" Rosewood/Boxwood',\n",
       " 'Wood Chess Set Pieces Monarch Staunton King Size 3\" Bud Rosewood/Boxwood',\n",
       " 'Supreme Staunton Wood Chess Pieces Golden Rosewood/Boxwood 3-3/4\"',\n",
       " 'Victorian Staunton Wooden Chess Pieces Golden Rosewood/Boxwood 3-3/4\"',\n",
       " 'Perfect Tournament Chess Set Pieces Imperial Staunton Golden Rosewood/Boxwood 4\"',\n",
       " 'Popular Staunton Tournament Wood Chess Set Pieces 3-3/4\" Rosewood/Boxwood',\n",
       " 'Popular Staunton Wooden Chess Pieces King Size 3\" Golden Rosewood/Boxwood',\n",
       " 'Ebonized / Boxwood Galaxy Staunton Wooden Chess Set Pieces King Height 3\" - Triple Weighted',\n",
       " 'Wooden Tournament Chess Pieces Regal Staunton 3-3/4\" Ebonized/Boxwood',\n",
       " 'Monarch Staunton Wooden Tournament Chess Pieces King Size 3-3/4\" Ebonized/Boxwood',\n",
       " 'Rosewood Chess Set Pieces Emperor Staunton 3.6\" + 2 Extra Queens',\n",
       " 'Ringy Rosewood (Acacia Rhodoxylon) / Boxwood Galaxy Staunton Wooden Chess Set Pieces - King Height 3\" (76 mm) - Triple Weighted',\n",
       " 'Wood Chess Set Pieces Empire Staunton King Size 3\" Gold/Black Color ',\n",
       " 'Wood Chess Set Pieces Empire Staunton King Size 3\" Black/Ivory Color ',\n",
       " 'Wood Chess Set Pieces Monarch Staunton King Size 3-1/2\" Rosewood/Boxwood',\n",
       " 'Tournament Chess Pieces Wooden Monarch Staunton Golden Rosewood/Boxwood 4\"',\n",
       " 'Magic Balls Wooden Artistic Chess Pieces Ebony/Boxwood 4\"',\n",
       " 'Bud Rosewood / Boxwood Chess Set Pieces Galaxy Staunton 3\" (76 mm) + 2 Extra Queens - Triple Weighted',\n",
       " 'Heirloom Collection Galaxy Staunton Rosewood Chess Pieces King Size 3\" packed in Rosewood  Heirloom Box',\n",
       " 'Supreme Staunton Wooden Chess Pieces Ebonized/Boxwood 3-3/4\"',\n",
       " 'Perfect Tournament Chess Set Pieces Imperial Staunton Ebonized/Boxwood 4\"',\n",
       " 'Perfect Tournament Chess Set Pieces Imperial Staunton Green/Ivory Lacquered 4\"',\n",
       " 'Perfect Tournament Chess Set Pieces Imperial Staunton Red/Black Lacquered 4\"',\n",
       " 'Wood Chess Set Pieces Broad Base Staunton King Size 3-3/4\" Rosewood/Boxwood',\n",
       " 'Popular Staunton Wooden Chess Pieces King Size 3-1/4\" Golden Rosewood/Boxwood',\n",
       " 'Perfect Tournament Chess Set Pieces Imperial Staunton Black/Ivory 4\"',\n",
       " 'Popular Staunton Wooden Chess Pieces King Size 3\" Rosewood/Boxwood',\n",
       " 'Tournament Chess Set Pieces Unique Staunton King Size: 3.75\" in Golden Acacia Wood / Boxwood',\n",
       " 'Wooden Chess Set Pieces Majestic Staunton Golden Rosewood/Boxwood 4\"',\n",
       " 'Premier Chess Set Pieces Royal Crown Staunton Golden Rosewood/Boxwood 4-1/4inch',\n",
       " 'Golden Rose Wood Chess Set Pieces Royal King 4-1/4\" + 2 Extra Queens',\n",
       " 'Sovereign Staunton Wood Chess Pieces Golden Rosewood/Boxwood 4\"',\n",
       " 'Emperor Staunton Wooden Chess Pieces Golden Rosewood/Boxwood 4\"',\n",
       " 'Globe Design Artistic Wood Chess Set Pieces Golden Rosewood/Boxwood 4-1/4\"',\n",
       " 'Wooden Tournament Chess Pieces Regal Staunton 3-3/4\" Rosewood/Boxwood',\n",
       " 'Galaxy Staunton Chess Set Pieces 3\" + 2 Extra Queens - Triple Weighted',\n",
       " 'Rosewood/Boxwood Chess pieces Galaxy Staunton 3\" + 2 Extra Queens + Wooden Designer Storage Box',\n",
       " 'House of Chess Reproduced Abstract Design 3.75\" Ringy Rosewood Weighted Chess Pieces',\n",
       " 'House of Chess Reproduced Abstract Design 3.75\" Ebonized Weighted Chess Pieces',\n",
       " 'Tournament Chess Pieces Wooden Monarch Staunton Ebonized/Boxwood 4\"',\n",
       " 'Medieval Design Wooden Theme Chess Pieces 3-3/4\" Rosewood/Boxwood',\n",
       " 'Tournament Chess Pieces Wooden Monarch Staunton Rosewood/Boxwood 3-3/4\"',\n",
       " 'Wooden Chess Pieces Supreme Staunton Rosewood/Boxwood 3-3/4\"',\n",
       " 'Victorian Staunton Wooden Chess Pieces Rosewood/Boxwood 3-3/4\"',\n",
       " 'Wooden Unique Staunton Chess Pieces King Size 3-3/4\" Ringy Rosewood/Boxwood',\n",
       " 'Ebonized / Boxwood Galaxy Staunton Wooden Chess Set Pieces King Height 3.5\" - Triple Weighted',\n",
       " 'Sovereign Staunton Wood Chess Pieces Ebonized/Boxwood 4\"',\n",
       " 'Chess Set Pieces Royal King Staunton Ebonized/Boxwood 4-1/4\"',\n",
       " 'Premier Chess Pieces Regalia Staunton Golden Rosewood/Boxwood 4-1/2\"',\n",
       " 'Premier Chess Set Pieces Royal Crown Staunton Ebonized/Boxwood 4-1/4inch',\n",
       " 'Emperor Staunton Wooden Chess Pieces Ebonized/Boxwood 4\"',\n",
       " 'Wood Chess Set Pieces Majestic Staunton Ebonized/Boxwood 4\"',\n",
       " 'Ebony/Boxwood Chess Set Pieces Galaxy Staunton 3\" (76 mm) + 2 Extra Queens - Triple Weighted',\n",
       " 'Perfect Tournament Chess Set Pieces Imperial Staunton Rosewood/Boxwood 4\"',\n",
       " 'Grand Master Staunton Tournament Chess Set Pieces - King Size: 3-3/4\" (Broad Base) + 2 Extra Queens - Ebonized / Boxwood',\n",
       " 'Grand Master Staunton Tournament Chess Set Pieces - King Size: 3-3/4\" (Broad Base) + 2 Extra Queens - Acacia Wood / Boxwood',\n",
       " 'Victorian Staunton Wooden Chess Pieces Ebonized/Boxwood 3-3/4\"',\n",
       " 'Popular Staunton Tournament Wood Chess Set Pieces 3-3/4\" Golden Rosewood/Boxwood',\n",
       " 'Popular Staunton Tournament Wood Chess Set Pieces 3-3/4\" Ebony/Boxwood',\n",
       " 'Galaxy Staunton Ebony / Blood Wood Chess Set Pieces King Height 3\" - Triple Weighted + 2 Extra Queens',\n",
       " 'Globe Design Artistic Wood Chess Set Pieces Rosewood/Boxwood 4-1/4\"',\n",
       " 'Premier Chess Pieces Regalia Staunton Ebonized/Boxwood 4-1/2\"',\n",
       " 'Tournament Chess Pieces Wooden Monarch Staunton Rosewood/Boxwood 4\"',\n",
       " 'Angel-n-Devils Theme Chess Pieces Rosewood/Boxwood 4-1/4\"',\n",
       " 'Wooden Tournament Chess Pieces Splendid Staunton 3-3/4\" Ebonized/Boxwood',\n",
       " 'Premier Chess Pieces Bridle Knight Staunton King Size 3-3/4\" Golden Rosewood/Boxwood',\n",
       " 'Grand Master Staunton Tournament Chess Set Pieces - King Size: 3-3/4\" (Broad Base) + 2 Extra Queens - Blood Rosewood / Boxwood',\n",
       " 'Grand Master Staunton Tournament Chess Set Pieces - King Size: 3-3/4\" (Broad Base) + 2 Extra Queens - Blood Rosewood / Ebonized',\n",
       " 'Grand Master Staunton Tournament Chess Set Pieces - King Size: 3-3/4\" (Broad Base) + 2 Extra Queens - Ringy Rosewood / Boxwood',\n",
       " 'Premier Chess Pieces Royal Knight Staunton King Size 3-1/2\" Rosewood/Boxwood',\n",
       " 'Artistic Berliner Wood Chess Set Pieces King Size 4\" Black/Ivory Colored',\n",
       " 'Artistic Berliner Wood Chess Set Pieces King Size 4\" Silver/Black Colored',\n",
       " 'Premier Wooden Chess Set Pieces Empire Staunton King Size 3-3/4\" Gold/Black Color',\n",
       " 'Premier Wooden Chess Set Pieces Empire Staunton King Size 3-3/4\" Black/Ivory Color',\n",
       " 'Tournament Style Popular Staunton Wooden Chess Pieces King Size 4\" Golden Rosewood/Boxwood',\n",
       " 'Premier Chess Set Pieces Royal Crown Staunton Rosewood/Boxwood 4-1/4inch',\n",
       " 'Modern Round Artistic Wooden Chess Set Pieces 3-3-/4\" Black/Ivory Colored',\n",
       " 'Modern Round Artistic Wooden Chess Set Pieces 3-3-/4\" Silver/Black Colored',\n",
       " 'Rose Wood Chess Set Pieces Royal King 4-1/4\" + 2 Extra Queens',\n",
       " 'Wood Chess Set Pieces Majestic Staunton Rosewood/Boxwood 4\"',\n",
       " 'Emperor Staunton Wooden Chess Pieces Rosewood/Boxwood 4\"',\n",
       " 'Sovereign Staunton Wood Chess Pieces Rosewood/Boxwood 4\"',\n",
       " 'Wooden Tournament Chess Pieces Regal Staunton 3-3/4\" Ebony/Boxwood',\n",
       " 'Premier Chess Pieces Royal Knight Staunton King Size 3-3/4\" Ebonized/Boxwood',\n",
       " 'Wooden Chess Pieces Supreme Staunton Ebony/Boxwood 3-3/4\"',\n",
       " 'Victorian Staunton Wooden Chess Pieces Ebony/Boxwood 3-3/4\"',\n",
       " 'Premier Chess Pieces Regalia Staunton Rosewood/Boxwood 4-1/2\"',\n",
       " 'Premier Chess Pieces Royal Knight Staunton King Size 3-3/4\" Rosewood/Boxwood',\n",
       " 'Yugo (Zagreb) Staunton Wooden Tournament Chess Pieces King Size 3-3/4\" Acacia Wood/Boxwood + 2 Extra Queens',\n",
       " 'Yugo (Zagreb) Staunton Wooden Tournament Chess Pieces King Size 3-3/4\" Ebonized/Boxwood + 2 Extra Queens',\n",
       " 'Derby Knight Staunton Premier Chess Set Pieces King Size 4\" Ebonized/Boxwood',\n",
       " 'Rio Staunton Weighted Chess Pieces King Height 3\" - 2 Extra Queens - Ebonized/Boxwood',\n",
       " 'Popular Fierce Knight Staunton Tournament Chess Set Pieces - King Size: 4\" + 2 Extra Queens - Ebonized / Boxwood',\n",
       " 'Grand Master Staunton Tournament Chess Set Pieces - King Size: 4\" (Broad Base) + 2 Extra Queens - Blood Rosewood / Boxwood',\n",
       " 'Edinburgh Upright Antique Reproduction Chess Set Pieces 4-3/8\" Black/Ivory Colored',\n",
       " 'Edinburgh Upright Antique Reproduction Chess Set Pieces 4-3/8\" Silver/Black Colored',\n",
       " 'Perfect Tournament Chess Set Pieces Imperial Staunton Ebony/Boxwood 4\"',\n",
       " 'Ringy Rosewood / Boxwood Chess Set Pieces Yugo (Zagreb) Staunton 3.75\" (95 mm) + 2 Extra Queens - Double Weighted',\n",
       " 'Wood Magnetic Travel Chess Set & Backgammon Combo Folding 12\" Golden Rosewood/Maple',\n",
       " 'Wood Magnetic Travel Chess Set & Backgammon Combo Folding 12\"x7\" Wide Bordered Golden Rosewood/Maple',\n",
       " 'Wood Chess Set Pieces Broad Base Staunton King Size 3-3/4\" Ebony/Boxwood',\n",
       " 'Bud Rosewood/Boxwood Chess Set Pieces Monarch Staunton Tournament Size 4\" (102 mm) + 2 Extra Queens + Wooden Storage Box',\n",
       " 'Roman Arabian Theme Chess Pieces 5\" American Cherry/Boxwood',\n",
       " 'Roman Emperor Bust Theme Chess Pieces American Cherry/Boxwood 5\"',\n",
       " 'Tournament Chess Pieces Wooden Monarch Staunton Ebony/Boxwood 4\"',\n",
       " 'Isle of Lewis Theme Chess Pieces American Cherry/Boxwood 4-1/4\"',\n",
       " 'Renaissance Theme Chess Pieces American Cherry/Boxwood 5-3/4\"',\n",
       " 'Ringy Rosewood (Acacia Rhodoxylon) / Boxwood Chess Pieces Rio Staunton - King Height 3.75\" (95 mm) - 2 Extra Queens - Triple Weighted',\n",
       " 'Premier Chess Set Pieces Royal Crown Staunton Ebony/Boxwood 4-1/4inch',\n",
       " 'Ringy Rosewood (Acacia Rhodoxylon) / Boxwood Chess Pieces Rio Staunton - King Height 4\" (102 mm) - 2 Extra Queens - Triple Weighted',\n",
       " 'Wood Chess Set Pieces Majestic Staunton Ebony/Boxwood 4\"',\n",
       " 'Ebony Wood Chess Set Pieces Royal King 4-1/4\" + 2 Extra Queens',\n",
       " 'Sovereign Staunton Wood Chess Pieces Ebony/Boxwood 4\"',\n",
       " 'Bud Rosewood/Boxwood Chess Set Pieces Royal Knight Staunton 4.5\" + 2 Extra Queens',\n",
       " 'Golden Rosewood/Boxwood Chess Set Pieces Rio Staunton 4.0\" (102 mm) - 2 Extra Queens - Triple Weighted',\n",
       " 'Ebonized / Boxwood Chess Set Pieces Rio Staunton 4\" (102 mm) - 2 Extra Queens - Triple Weighted',\n",
       " 'Wood Chess Set Pieces Emperor Staunton Ebony/Boxwood King Size 3-1/2\"',\n",
       " 'Ringy Rosewood/Boxwood Chess Set Pieces Rio Staunton 4.0\" (102 mm) - 2 Extra Queens - Triple Weighted',\n",
       " 'Premier Chess Pieces Regalia Staunton Ebony/Boxwood 4-1/2\"',\n",
       " 'Golden Rosewood / Boxwood Chess Set Pieces Yugo (Zagreb) Staunton 4\" (102 mm) + 2 Extra Queens + Wooden Storage Box',\n",
       " 'Emperor Staunton Wooden Chess Pieces Ebony/Boxwood 4\"',\n",
       " 'Yugo (Zagreb) Staunton Wooden Tournament Chess Pieces King Size 3-3/4\" Ebony/Boxwood + 2 Extra Queens',\n",
       " 'Premier Chess Set Pieces Monarch Staunton King Size 4\" Blood Rosewood/Boxwood',\n",
       " 'Bud Rosewood / Boxwood Chess Set Pieces Yugo (Zagreb) Staunton 4\" (102 mm) + 2 Extra Queens - Triple Weighted + Wooden Storage Box',\n",
       " 'Rosewood / Boxwood Chess Set Pieces Yugo (Zagreb) Staunton 4\" (102 mm) + 2 Extra Queens + Wooden Storage Box',\n",
       " 'Bud Rosewood/Boxwood Chess Set Pieces Luxor Staunton 4.5\" (114 mm) - Triple Weighted + 2 Extra Queens + Wooden Storage Box',\n",
       " 'Bud Rosewood / Boxwood Chess Set Pieces Rio Staunton 4.0\" (102 mm) - 2 Extra Queens - Triple Weighted',\n",
       " 'Ebony / Boxwood Chess Pieces Rio Staunton - King Height 3.75\" (95 mm) - 2 Extra Queens - Triple Weighted',\n",
       " 'Premier Chess Set Pieces Monarch Staunton King Size 4\" Wenge Wood/Boxwood',\n",
       " 'Premier Chess Pieces Royal Knight Staunton King Size 4-1/2\" Blood Rosewood/Boxwood',\n",
       " 'Wenge Wood / Boxwood Chess Set Pieces Yugo (Zagreb) Staunton 4\" (102 mm) + 2 Extra Queens + Wooden Storage Box',\n",
       " 'Ebony Wood / Boxwood Chess Set Pieces Rio Staunton 4.0\" (102 mm) - 2 Extra Queens - Triple Weighted',\n",
       " 'Ebony/Boxwood Chess Set Pieces Twin Knight Staunton 4.6\" (117 mm) - Triple Weighted + 2 Extra Queens + Wooden Storage Box',\n",
       " 'Rosewood/Boxwood Chess Set Pieces Encore Staunton 4.5\" (114 mm) - Triple Weighted + 2 Extra Queens + Wooden Storage Box',\n",
       " 'Bud Rosewood/Boxwood Chess Set Pieces Encore Staunton 4.5\" + 2 Extra Queens',\n",
       " 'Ebony/Boxwood Chess Set Pieces Encore Staunton 4.5\" + 2 Extra Queens + Wooden Storage Box',\n",
       " 'Ebony/Bud Rosewood Chess Set Pieces Encore Staunton 4.5\" (114 mm) - Triple Weighted + 2 Extra Queens + Wooden Storage Box',\n",
       " 'Bud Rosewood Chess Set Pieces Classy Knight 6.5\" (165 mm) - Triple Weighted + 2 Extra Queens']"
      ]
     },
     "execution_count": 11,
     "metadata": {},
     "output_type": "execute_result"
    }
   ],
   "source": [
    "ListaNomes = []\n",
    "\n",
    "for subtag in tag.find_all(name = 'div', class_ = \"item_sel_outer_mid_desc_title\"):#.find(name = 'a'):\n",
    "    ListaNomes.append(subtag.find(name='a').string)\n",
    "    \n",
    "ListaNomes"
   ]
  },
  {
   "cell_type": "markdown",
   "id": "3e904270-aa24-4669-95ad-8755675a6c4e",
   "metadata": {},
   "source": [
    "### Preço das peças"
   ]
  },
  {
   "cell_type": "markdown",
   "id": "c53e96c9-6d83-4c67-839d-a9c350b83d83",
   "metadata": {},
   "source": [
    "Agora falta o preço dos itens, que estão na tag ```span``` e atributo ```class=\"sale_price\"```."
   ]
  },
  {
   "cell_type": "code",
   "execution_count": 12,
   "id": "94560cf6-3bf9-4291-8ba6-34dc46a31787",
   "metadata": {},
   "outputs": [
    {
     "data": {
      "text/plain": [
       "'Sale Price: $29.95'"
      ]
     },
     "execution_count": 12,
     "metadata": {},
     "output_type": "execute_result"
    }
   ],
   "source": [
    "tag.find(name='span', class_='sale_price').string"
   ]
  },
  {
   "cell_type": "markdown",
   "id": "9754e037-1a54-48ff-bbec-a5331c65b882",
   "metadata": {},
   "source": [
    "Aplicando esse caminho em todos os produtos, temos"
   ]
  },
  {
   "cell_type": "code",
   "execution_count": 13,
   "id": "27a34729-92e8-4cf5-a54e-1e73265bd6ae",
   "metadata": {},
   "outputs": [
    {
     "data": {
      "text/plain": [
       "['Sale Price: $29.95',\n",
       " 'Sale Price: $39.95',\n",
       " 'Sale Price: $39.95',\n",
       " 'Sale Price: $44.95',\n",
       " 'Sale Price: $44.95',\n",
       " 'Sale Price: $49.95',\n",
       " 'Sale Price: $49.95',\n",
       " 'Sale Price: $49.95',\n",
       " 'Sale Price: $49.95',\n",
       " 'Sale Price: $49.95',\n",
       " 'Sale Price: $49.95',\n",
       " 'Sale Price: $49.95',\n",
       " 'Sale Price: $49.95',\n",
       " 'Sale Price: $49.95',\n",
       " 'Sale Price: $52.95',\n",
       " 'Sale Price: $54.95',\n",
       " 'Sale Price: $54.95',\n",
       " 'Sale Price: $59.95',\n",
       " 'Sale Price: $59.95',\n",
       " 'Sale Price: $59.95',\n",
       " 'Sale Price: $59.95',\n",
       " 'Sale Price: $59.95',\n",
       " 'Sale Price: $59.95',\n",
       " 'Sale Price: $59.95',\n",
       " 'Sale Price: $59.95',\n",
       " 'Sale Price: $64.95',\n",
       " 'Sale Price: $64.95',\n",
       " 'Sale Price: $64.95',\n",
       " 'Sale Price: $64.95',\n",
       " 'Sale Price: $69.75',\n",
       " 'Sale Price: $69.75',\n",
       " 'Sale Price: $69.95',\n",
       " 'Sale Price: $69.95',\n",
       " 'Sale Price: $69.95',\n",
       " 'Sale Price: $69.95',\n",
       " 'Sale Price: $69.95',\n",
       " 'Sale Price: $69.95',\n",
       " 'Sale Price: $69.95',\n",
       " 'Sale Price: $69.95',\n",
       " 'Sale Price: $72.95',\n",
       " 'Sale Price: $72.95',\n",
       " 'Sale Price: $74.95',\n",
       " 'Sale Price: $74.95',\n",
       " 'Sale Price: $74.95',\n",
       " 'Sale Price: $74.95',\n",
       " 'Sale Price: $74.95',\n",
       " 'Sale Price: $79.95',\n",
       " 'Sale Price: $79.95',\n",
       " 'Sale Price: $79.95',\n",
       " 'Sale Price: $79.95',\n",
       " 'Sale Price: $79.95',\n",
       " 'Sale Price: $79.95',\n",
       " 'Sale Price: $79.95',\n",
       " 'Sale Price: $79.95',\n",
       " 'Sale Price: $79.95',\n",
       " 'Sale Price: $79.95',\n",
       " 'Sale Price: $79.95',\n",
       " 'Sale Price: $79.95',\n",
       " 'Sale Price: $79.95',\n",
       " 'Sale Price: $79.95',\n",
       " 'Sale Price: $79.95',\n",
       " 'Sale Price: $79.95',\n",
       " 'Sale Price: $79.95',\n",
       " 'Sale Price: $79.95',\n",
       " 'Sale Price: $79.95',\n",
       " 'Sale Price: $79.95',\n",
       " 'Sale Price: $84.95',\n",
       " 'Sale Price: $84.95',\n",
       " 'Sale Price: $84.95',\n",
       " 'Sale Price: $89.95',\n",
       " 'Sale Price: $89.95',\n",
       " 'Sale Price: $89.95',\n",
       " 'Sale Price: $89.95',\n",
       " 'Sale Price: $89.95',\n",
       " 'Sale Price: $89.95',\n",
       " 'Sale Price: $89.95',\n",
       " 'Sale Price: $89.95',\n",
       " 'Sale Price: $89.95',\n",
       " 'Sale Price: $89.95',\n",
       " 'Sale Price: $89.95',\n",
       " 'Sale Price: $94.95',\n",
       " 'Sale Price: $94.95',\n",
       " 'Sale Price: $94.95',\n",
       " 'Sale Price: $99.95',\n",
       " 'Sale Price: $99.95',\n",
       " 'Sale Price: $99.95',\n",
       " 'Sale Price: $99.95',\n",
       " 'Sale Price: $99.95',\n",
       " 'Sale Price: $99.95',\n",
       " 'Sale Price: $99.95',\n",
       " 'Sale Price: $99.95',\n",
       " 'Sale Price: $99.95',\n",
       " 'Sale Price: $99.95',\n",
       " 'Sale Price: $99.95',\n",
       " 'Sale Price: $99.95',\n",
       " 'Sale Price: $99.95',\n",
       " 'Sale Price: $104.95',\n",
       " 'Sale Price: $105.95',\n",
       " 'Sale Price: $105.95',\n",
       " 'Sale Price: $106.95',\n",
       " 'Sale Price: $106.95',\n",
       " 'Sale Price: $109.95',\n",
       " 'Sale Price: $109.95',\n",
       " 'Sale Price: $109.95',\n",
       " 'Sale Price: $109.95',\n",
       " 'Sale Price: $114.95',\n",
       " 'Sale Price: $114.95',\n",
       " 'Sale Price: $114.95',\n",
       " 'Sale Price: $114.95',\n",
       " 'Sale Price: $114.95',\n",
       " 'Sale Price: $114.95',\n",
       " 'Sale Price: $124.95',\n",
       " 'Sale Price: $124.95',\n",
       " 'Sale Price: $124.95',\n",
       " 'Sale Price: $124.95',\n",
       " 'Sale Price: $124.95',\n",
       " 'Sale Price: $124.95',\n",
       " 'Sale Price: $124.95',\n",
       " 'Sale Price: $124.95',\n",
       " 'Sale Price: $124.95',\n",
       " 'Sale Price: $124.95',\n",
       " 'Sale Price: $126.95',\n",
       " 'Sale Price: $126.95',\n",
       " 'Sale Price: $129.95',\n",
       " 'Sale Price: $129.95',\n",
       " 'Sale Price: $129.95',\n",
       " 'Sale Price: $129.95',\n",
       " 'Sale Price: $149.95',\n",
       " 'Sale Price: $149.95',\n",
       " 'Sale Price: $149.95',\n",
       " 'Sale Price: $149.95',\n",
       " 'Sale Price: $149.95',\n",
       " 'Sale Price: $149.95',\n",
       " 'Sale Price: $149.95',\n",
       " 'Sale Price: $159.95',\n",
       " 'Sale Price: $164.95',\n",
       " 'Sale Price: $164.95',\n",
       " 'Sale Price: $169.95',\n",
       " 'Sale Price: $169.95',\n",
       " 'Sale Price: $169.95',\n",
       " 'Sale Price: $169.95',\n",
       " 'Sale Price: $169.95',\n",
       " 'Sale Price: $169.95',\n",
       " 'Sale Price: $174.95',\n",
       " 'Sale Price: $174.95',\n",
       " 'Sale Price: $189.95',\n",
       " 'Sale Price: $194.95',\n",
       " 'Sale Price: $199.95',\n",
       " 'Sale Price: $199.95',\n",
       " 'Sale Price: $199.95',\n",
       " 'Sale Price: $199.95',\n",
       " 'Sale Price: $199.95',\n",
       " 'Sale Price: $224.95',\n",
       " 'Sale Price: $224.95',\n",
       " 'Sale Price: $244.95',\n",
       " 'Sale Price: $249.95',\n",
       " 'Sale Price: $249.95',\n",
       " 'Sale Price: $249.95',\n",
       " 'Sale Price: $249.95',\n",
       " 'Sale Price: $299.95',\n",
       " 'Sale Price: $299.95',\n",
       " 'Sale Price: $349.95',\n",
       " 'Sale Price: $349.95',\n",
       " 'Sale Price: $399.95',\n",
       " 'Sale Price: $399.95']"
      ]
     },
     "execution_count": 13,
     "metadata": {},
     "output_type": "execute_result"
    }
   ],
   "source": [
    "ListaPrecos = []\n",
    "\n",
    "for subtag in tag.find_all(name='span', class_='sale_price'):\n",
    "    ListaPrecos.append(subtag.string)\n",
    "    \n",
    "ListaPrecos"
   ]
  },
  {
   "cell_type": "markdown",
   "id": "16999eb1-93d5-4658-9295-cd50bfdbbc3a",
   "metadata": {},
   "source": [
    "### Tipo de madeira"
   ]
  },
  {
   "cell_type": "markdown",
   "id": "9a34b9e8-18c1-469d-a759-c0deb9b71310",
   "metadata": {},
   "source": [
    "O tipo de material usado se encontra na tag ```strong``` cujo atributo ```style``` é ```\"color:green\"```."
   ]
  },
  {
   "cell_type": "code",
   "execution_count": 30,
   "id": "3cecbebe-9564-4a2d-ae44-0edb7db255f5",
   "metadata": {},
   "outputs": [
    {
     "data": {
      "text/plain": [
       "'Golden Rosewood / Boxwood'"
      ]
     },
     "execution_count": 30,
     "metadata": {},
     "output_type": "execute_result"
    }
   ],
   "source": [
    "tag.find(name = 'strong', style = 'color:green').string"
   ]
  },
  {
   "cell_type": "markdown",
   "id": "525f355f-aa92-487b-804e-b86848e87d3a",
   "metadata": {},
   "source": [
    "Fazendo isso para todos os produtos:"
   ]
  },
  {
   "cell_type": "code",
   "execution_count": 33,
   "id": "1bea918f-cd0e-4960-8fff-7698cfc5557a",
   "metadata": {},
   "outputs": [],
   "source": [
    "ListaMateriais = []\n",
    "\n",
    "for subtag in tag.find_all(name = 'strong', style = 'color:green'):\n",
    "    ListaMateriais.append(subtag.string)"
   ]
  },
  {
   "cell_type": "markdown",
   "id": "1f9a4f5d-7dae-41d8-8d64-8156978497cc",
   "metadata": {},
   "source": [
    "Checando se coletamos corretamente o material da peça"
   ]
  },
  {
   "cell_type": "code",
   "execution_count": 34,
   "id": "e311a087-8899-4543-ad60-1ace8f8cbffd",
   "metadata": {},
   "outputs": [
    {
     "data": {
      "text/plain": [
       "['Golden Rosewood / Boxwood',\n",
       " 'Golden Rosewood / Boxwood',\n",
       " 'Golden Rosewood / Boxwood',\n",
       " 'Golden Rosewood / Boxwood',\n",
       " 'Golden Rosewood / Boxwood',\n",
       " 'Ebonized / Boxwood',\n",
       " 'Golden Rosewood / Boxwood',\n",
       " 'Golden Rosewood / Boxwood',\n",
       " 'Golden Rosewood / Boxwood',\n",
       " 'Rosewood / Boxwood',\n",
       " 'Bud Rosewood / Mahogany',\n",
       " 'Mahogany / Boxwood',\n",
       " 'Golden Rosewood / Boxwood',\n",
       " 'Golden Rosewood / Boxwood',\n",
       " 'Gold / Black Lacquered',\n",
       " 'Golden Rosewood / Boxwood',\n",
       " 'Golden Rosewood / Maple',\n",
       " 'Ebonized / Boxwood',\n",
       " 'Golden Rosewood / Boxwood',\n",
       " 'Rosewood / Boxwood',\n",
       " 'Golden Rosewood / Boxwood',\n",
       " 'Golden Rosewood / Boxwood',\n",
       " 'Golden Rosewood / Maple',\n",
       " 'Wenge Wood / Boxwood',\n",
       " 'Walnut / Boxwood',\n",
       " 'Rosewoodnized / Boxwood',\n",
       " 'Ebonized / Boxwood',\n",
       " 'Rosewood / Boxwood',\n",
       " 'Bud Rosewood / Boxwood',\n",
       " 'Golden Rosewood / Boxwood',\n",
       " 'Golden Rosewood / Boxwood',\n",
       " 'Golden Rosewood / Boxwood',\n",
       " 'Rosewood / Boxwood',\n",
       " 'Golden Rosewood / Boxwood',\n",
       " 'Ebonized / Boxwood',\n",
       " 'Ebonized / Boxwood',\n",
       " 'Ebonized / Boxwood',\n",
       " 'Rosewood / Boxwood',\n",
       " 'Ringy Rosewood / Boxwood',\n",
       " 'Gold / Black Lacquered',\n",
       " 'Black / Ivory Lacquered',\n",
       " 'Rosewood / Boxwood',\n",
       " 'Golden Rosewood / Boxwood',\n",
       " 'Ebony / Boxwood',\n",
       " 'Bud Rosewood / Boxwood',\n",
       " 'Rosewood / Boxwood',\n",
       " 'Ebonized / Boxwood',\n",
       " 'Ebonized / Boxwood',\n",
       " 'Green / Ivory Lacquered',\n",
       " 'Red / Black Lacquered',\n",
       " 'Rosewood / Boxwood',\n",
       " 'Golden Rosewood / Boxwood',\n",
       " 'Black / Ivory Lacquered',\n",
       " 'Rosewood / Boxwood',\n",
       " 'Acacia Wood / Boxwood',\n",
       " 'Golden Rosewood / Boxwood',\n",
       " 'Golden Rosewood / Boxwood',\n",
       " 'Golden Rosewood / Boxwood',\n",
       " 'Golden Rosewood / Boxwood',\n",
       " 'Golden Rosewood / Boxwood',\n",
       " 'Golden Rosewood / Boxwood',\n",
       " 'Rosewood / Boxwood',\n",
       " 'Hardwickia Rosewood / Boxwood',\n",
       " 'Rosewood / Boxwood',\n",
       " 'Ringy Rosewood / Boxwood',\n",
       " 'Ebonized / Boxwood',\n",
       " 'Ebonized / Boxwood',\n",
       " 'Rosewood / Boxwood',\n",
       " 'Rosewood / Boxwood',\n",
       " 'Rosewood / Boxwood',\n",
       " 'Rosewood / Boxwood',\n",
       " 'Ringy Rosewood / Boxwood',\n",
       " 'Ebonized / Boxwood',\n",
       " 'Ebonized / Boxwood',\n",
       " 'Ebonized / Boxwood',\n",
       " 'Golden Rosewood / Boxwood',\n",
       " 'Ebonized / Boxwood',\n",
       " 'Ebonized / Boxwood',\n",
       " 'Ebonized / Boxwood',\n",
       " 'Ebony / Boxwood',\n",
       " 'Rosewood / Boxwood',\n",
       " 'Ebonized / Boxwood',\n",
       " 'Acacia Wood / Boxwood',\n",
       " 'Ebonized / Boxwood',\n",
       " 'Golden Rosewood / Boxwood',\n",
       " 'Ebony / Boxwood',\n",
       " 'Ebony Wood / Blood Wood',\n",
       " 'Rosewood / Boxwood',\n",
       " 'Ebonized / Boxwood',\n",
       " 'Rosewood / Boxwood',\n",
       " 'Rosewood / Boxwood',\n",
       " 'Ebonized / Boxwood',\n",
       " 'Golden Rosewood / Boxwood',\n",
       " 'Blood Rosewood / Boxwood',\n",
       " 'Blood Rosewood / Ebonized',\n",
       " 'Ringy Rosewood / Boxwood',\n",
       " 'Rosewood / Boxwood',\n",
       " 'Black / Ivory Lacquered',\n",
       " 'Silver / Black Lacquered',\n",
       " 'Gold / Black Lacquered',\n",
       " 'Black / Ivory Lacquered',\n",
       " 'Golden Rosewood / Boxwood',\n",
       " 'Rosewood / Boxwood',\n",
       " 'Black / Ivory Lacquered',\n",
       " 'Silver / Black Lacquered',\n",
       " 'Rosewood / Boxwood',\n",
       " 'Rosewood / Boxwood',\n",
       " 'Rosewood / Boxwood',\n",
       " 'Rosewood / Boxwood',\n",
       " 'Ebony / Boxwood',\n",
       " 'Ebonized / Boxwood',\n",
       " 'Ebony / Boxwood',\n",
       " 'Ebony / Boxwood',\n",
       " 'Rosewood / Boxwood',\n",
       " 'Rosewood / Boxwood',\n",
       " 'Acacia Wood / Boxwood',\n",
       " 'Ebonized / Boxwood',\n",
       " 'Ebonized / Boxwood',\n",
       " 'Ebonized / Boxwood',\n",
       " 'Ebonized / Boxwood',\n",
       " 'Blood Rosewood / Boxwood',\n",
       " 'Black / Ivory Lacquered',\n",
       " 'Silver / Black Lacquered',\n",
       " 'Ebony / Boxwood',\n",
       " 'Ringy Rosewood / Boxwood',\n",
       " 'Golden Rosewood / Maple',\n",
       " 'Golden Rosewood / Maple',\n",
       " 'Ebony / Boxwood',\n",
       " 'Bud Rosewood / Boxwood',\n",
       " 'American Cherry / Boxwood',\n",
       " 'American Cherry / Boxwood',\n",
       " 'Ebony / Boxwood',\n",
       " 'American Cherry / Boxwood',\n",
       " 'American Cherry / Boxwood',\n",
       " 'Ringy Rosewood / Boxwood',\n",
       " 'Ebony / Boxwood',\n",
       " 'Ringy Rosewood / Boxwood',\n",
       " 'Ebony / Boxwood',\n",
       " 'Ebony / Boxwood',\n",
       " 'Ebony / Boxwood',\n",
       " 'Bud Rosewood / Boxwood',\n",
       " 'Golden Rosewood / Boxwood',\n",
       " 'Ebonized / Boxwood',\n",
       " 'Ebony / Boxwood',\n",
       " 'Ringy Rosewood / Boxwood',\n",
       " 'Ebony / Boxwood',\n",
       " 'Golden Rosewood / Boxwood',\n",
       " 'Ebony / Boxwood',\n",
       " 'Ebony / Boxwood',\n",
       " 'Blood Rosewood / Boxwood',\n",
       " 'Bud Rosewood / Boxwood',\n",
       " 'Rosewood / Boxwood',\n",
       " 'Bud Rosewood / Boxwood',\n",
       " 'Bud Rosewood / Boxwood',\n",
       " 'Ebony / Boxwood',\n",
       " 'Wenge Wood / Boxwood',\n",
       " 'Blood Rosewood / Boxwood',\n",
       " 'Wenge Wood / Boxwood',\n",
       " 'Ebony / Boxwood',\n",
       " 'Ebony / Boxwood',\n",
       " 'Rosewood / Boxwood',\n",
       " 'Bud Rosewood / Boxwood',\n",
       " 'Ebony / Boxwood',\n",
       " 'Ebony Wood / Bud Rosewood',\n",
       " 'Bud Rosewood / Boxwood']"
      ]
     },
     "execution_count": 34,
     "metadata": {},
     "output_type": "execute_result"
    }
   ],
   "source": [
    "ListaMateriais"
   ]
  },
  {
   "cell_type": "markdown",
   "id": "b445b510-7ab8-4b2f-8c05-8fc6c7a7fa30",
   "metadata": {},
   "source": [
    "### Altura do Rei"
   ]
  },
  {
   "cell_type": "markdown",
   "id": "1068ebff-9571-4a29-83dd-236f3ab2ee4b",
   "metadata": {},
   "source": [
    "Por fim, coletemos a altura do rei, que se encontra na tag ```strong```."
   ]
  },
  {
   "cell_type": "code",
   "execution_count": 14,
   "id": "c6275379-61c6-4fe2-ab28-35544f1f7221",
   "metadata": {},
   "outputs": [
    {
     "data": {
      "text/plain": [
       "<strong>Size: 3\"</strong>"
      ]
     },
     "execution_count": 14,
     "metadata": {},
     "output_type": "execute_result"
    }
   ],
   "source": [
    "tag.find(name = 'strong', style='')"
   ]
  },
  {
   "cell_type": "markdown",
   "id": "d04b19c2-90b9-44ce-956c-99b4db47037d",
   "metadata": {},
   "source": [
    "Obs: eu coloquei como parâmetro ```style = ''``` pois há uma tag do mesmo tipo antes dela, que possui um atributo ```style='color:green'``` bem definido, enquanto que a informação que queremos está dentro da tag strong só que sem esse atributo.\n",
    "\n",
    "Fazendo isso para todos os produtos:"
   ]
  },
  {
   "cell_type": "code",
   "execution_count": 15,
   "id": "62a21b23-87c6-4bcd-a4f5-5f910a0e688c",
   "metadata": {},
   "outputs": [
    {
     "name": "stdout",
     "output_type": "stream",
     "text": [
      "Size: 3\"\n"
     ]
    }
   ],
   "source": [
    "ListaAlturas = []\n",
    "\n",
    "for subtag in tag.find_all(name = 'strong', style = ''):\n",
    "    ListaAlturas.append(subtag.string)\n",
    "    \n",
    "print(ListaAlturas[0])"
   ]
  },
  {
   "cell_type": "markdown",
   "id": "7453edfd-7c53-47a6-901c-583397f44055",
   "metadata": {},
   "source": [
    "## Criação da Tabela"
   ]
  },
  {
   "cell_type": "markdown",
   "id": "36f2bbb4-8e17-4f4f-a37f-422efe73ffe5",
   "metadata": {},
   "source": [
    "Feito a coleta de dados, criemos agora uma tabela com essas informações."
   ]
  },
  {
   "cell_type": "code",
   "execution_count": 36,
   "id": "33a54cd0-c936-43eb-b694-6bd2b35e2dea",
   "metadata": {},
   "outputs": [
    {
     "data": {
      "text/html": [
       "<div>\n",
       "<style scoped>\n",
       "    .dataframe tbody tr th:only-of-type {\n",
       "        vertical-align: middle;\n",
       "    }\n",
       "\n",
       "    .dataframe tbody tr th {\n",
       "        vertical-align: top;\n",
       "    }\n",
       "\n",
       "    .dataframe thead th {\n",
       "        text-align: right;\n",
       "    }\n",
       "</style>\n",
       "<table border=\"1\" class=\"dataframe\">\n",
       "  <thead>\n",
       "    <tr style=\"text-align: right;\">\n",
       "      <th></th>\n",
       "      <th>Código</th>\n",
       "      <th>Nome</th>\n",
       "      <th>Altura (Polegadas)</th>\n",
       "      <th>Material</th>\n",
       "      <th>Preço (USD)</th>\n",
       "    </tr>\n",
       "  </thead>\n",
       "  <tbody>\n",
       "    <tr>\n",
       "      <th>0</th>\n",
       "      <td>Item# CP2485</td>\n",
       "      <td>Famous Staunton Wood Chess Pieces King Size 3\"...</td>\n",
       "      <td>Size: 3\"</td>\n",
       "      <td>Golden Rosewood / Boxwood</td>\n",
       "      <td>Sale Price: $29.95</td>\n",
       "    </tr>\n",
       "    <tr>\n",
       "      <th>1</th>\n",
       "      <td>Item# CP1774</td>\n",
       "      <td>Wooden Unique Staunton Chess Pieces King Size ...</td>\n",
       "      <td>Size: 3.5\"</td>\n",
       "      <td>Golden Rosewood / Boxwood</td>\n",
       "      <td>Sale Price: $39.95</td>\n",
       "    </tr>\n",
       "    <tr>\n",
       "      <th>2</th>\n",
       "      <td>Item# CP3874</td>\n",
       "      <td>Wood Chess Set Pieces Monarch Staunton King Si...</td>\n",
       "      <td>Size: 3\"</td>\n",
       "      <td>Golden Rosewood / Boxwood</td>\n",
       "      <td>Sale Price: $39.95</td>\n",
       "    </tr>\n",
       "    <tr>\n",
       "      <th>3</th>\n",
       "      <td>Item# CP2358</td>\n",
       "      <td>Chess Set Pieces Sovereign Staunton 3-1/4\" Gol...</td>\n",
       "      <td>Size: 3.25\"</td>\n",
       "      <td>Golden Rosewood / Boxwood</td>\n",
       "      <td>Sale Price: $44.95</td>\n",
       "    </tr>\n",
       "    <tr>\n",
       "      <th>4</th>\n",
       "      <td>Item# CP2810</td>\n",
       "      <td>Famous Staunton Wood Chess Pieces King Size 3-...</td>\n",
       "      <td>Size: 3.25\"</td>\n",
       "      <td>Golden Rosewood / Boxwood</td>\n",
       "      <td>Sale Price: $44.95</td>\n",
       "    </tr>\n",
       "    <tr>\n",
       "      <th>...</th>\n",
       "      <td>...</td>\n",
       "      <td>...</td>\n",
       "      <td>...</td>\n",
       "      <td>...</td>\n",
       "      <td>...</td>\n",
       "    </tr>\n",
       "    <tr>\n",
       "      <th>160</th>\n",
       "      <td>Item# CP4483</td>\n",
       "      <td>Rosewood/Boxwood Chess Set Pieces Encore Staun...</td>\n",
       "      <td>Size: 4.5\"</td>\n",
       "      <td>Rosewood / Boxwood</td>\n",
       "      <td>Sale Price: $299.95</td>\n",
       "    </tr>\n",
       "    <tr>\n",
       "      <th>161</th>\n",
       "      <td>Item# CP4546</td>\n",
       "      <td>Bud Rosewood/Boxwood Chess Set Pieces Encore S...</td>\n",
       "      <td>Size: 4.5\"</td>\n",
       "      <td>Bud Rosewood / Boxwood</td>\n",
       "      <td>Sale Price: $349.95</td>\n",
       "    </tr>\n",
       "    <tr>\n",
       "      <th>162</th>\n",
       "      <td>Item# CP9768</td>\n",
       "      <td>Ebony/Boxwood Chess Set Pieces Encore Staunton...</td>\n",
       "      <td>Size: 4.5\"</td>\n",
       "      <td>Ebony / Boxwood</td>\n",
       "      <td>Sale Price: $349.95</td>\n",
       "    </tr>\n",
       "    <tr>\n",
       "      <th>163</th>\n",
       "      <td>Item# CP4983</td>\n",
       "      <td>Ebony/Bud Rosewood Chess Set Pieces Encore Sta...</td>\n",
       "      <td>Size: 4.5\"</td>\n",
       "      <td>Ebony Wood / Bud Rosewood</td>\n",
       "      <td>Sale Price: $399.95</td>\n",
       "    </tr>\n",
       "    <tr>\n",
       "      <th>164</th>\n",
       "      <td>Item# CP2989</td>\n",
       "      <td>Bud Rosewood Chess Set Pieces Classy Knight 6....</td>\n",
       "      <td>Size: 6.5\"</td>\n",
       "      <td>Bud Rosewood / Boxwood</td>\n",
       "      <td>Sale Price: $399.95</td>\n",
       "    </tr>\n",
       "  </tbody>\n",
       "</table>\n",
       "<p>165 rows × 5 columns</p>\n",
       "</div>"
      ],
      "text/plain": [
       "           Código                                               Nome  \\\n",
       "0    Item# CP2485  Famous Staunton Wood Chess Pieces King Size 3\"...   \n",
       "1    Item# CP1774  Wooden Unique Staunton Chess Pieces King Size ...   \n",
       "2    Item# CP3874  Wood Chess Set Pieces Monarch Staunton King Si...   \n",
       "3    Item# CP2358  Chess Set Pieces Sovereign Staunton 3-1/4\" Gol...   \n",
       "4    Item# CP2810  Famous Staunton Wood Chess Pieces King Size 3-...   \n",
       "..            ...                                                ...   \n",
       "160  Item# CP4483  Rosewood/Boxwood Chess Set Pieces Encore Staun...   \n",
       "161  Item# CP4546  Bud Rosewood/Boxwood Chess Set Pieces Encore S...   \n",
       "162  Item# CP9768  Ebony/Boxwood Chess Set Pieces Encore Staunton...   \n",
       "163  Item# CP4983  Ebony/Bud Rosewood Chess Set Pieces Encore Sta...   \n",
       "164  Item# CP2989  Bud Rosewood Chess Set Pieces Classy Knight 6....   \n",
       "\n",
       "    Altura (Polegadas)                   Material          Preço (USD)  \n",
       "0             Size: 3\"  Golden Rosewood / Boxwood   Sale Price: $29.95  \n",
       "1           Size: 3.5\"  Golden Rosewood / Boxwood   Sale Price: $39.95  \n",
       "2             Size: 3\"  Golden Rosewood / Boxwood   Sale Price: $39.95  \n",
       "3          Size: 3.25\"  Golden Rosewood / Boxwood   Sale Price: $44.95  \n",
       "4          Size: 3.25\"  Golden Rosewood / Boxwood   Sale Price: $44.95  \n",
       "..                 ...                        ...                  ...  \n",
       "160         Size: 4.5\"         Rosewood / Boxwood  Sale Price: $299.95  \n",
       "161         Size: 4.5\"     Bud Rosewood / Boxwood  Sale Price: $349.95  \n",
       "162         Size: 4.5\"            Ebony / Boxwood  Sale Price: $349.95  \n",
       "163         Size: 4.5\"  Ebony Wood / Bud Rosewood  Sale Price: $399.95  \n",
       "164         Size: 6.5\"     Bud Rosewood / Boxwood  Sale Price: $399.95  \n",
       "\n",
       "[165 rows x 5 columns]"
      ]
     },
     "execution_count": 36,
     "metadata": {},
     "output_type": "execute_result"
    }
   ],
   "source": [
    "dicionario = {'Código':ListaCodigos, 'Nome':ListaNomes, 'Altura (Polegadas)':ListaAlturas, 'Material':ListaMateriais, 'Preço (USD)':ListaPrecos}\n",
    "\n",
    "df = DataFrame(dicionario)\n",
    "\n",
    "df"
   ]
  },
  {
   "cell_type": "markdown",
   "id": "131318db-8977-4d52-90e3-c8dc9b64aab1",
   "metadata": {},
   "source": [
    "## Limpeza dos dados"
   ]
  },
  {
   "cell_type": "markdown",
   "id": "052f75fa-b392-482c-8ba8-7d8b51f961b3",
   "metadata": {},
   "source": [
    "Criado a tabela, vejamos como a limpeza de cada coluna será feita. Usaremos o regex para tal e o site https://regex101.com/ para testar as expressões regulares."
   ]
  },
  {
   "cell_type": "code",
   "execution_count": 17,
   "id": "a76138e9-1a07-4740-8739-4b79da4aaaac",
   "metadata": {},
   "outputs": [],
   "source": [
    "from re import findall"
   ]
  },
  {
   "cell_type": "markdown",
   "id": "943d6320-6d55-406e-8752-8cb944a9ffc7",
   "metadata": {},
   "source": [
    "Começando com a coluna de códigos, retiremos a parte 'Item# '."
   ]
  },
  {
   "cell_type": "code",
   "execution_count": 37,
   "id": "73b2cc84-2d4d-438b-8c51-83038c83359c",
   "metadata": {},
   "outputs": [],
   "source": [
    "regex = '[^Item# ].+'\n",
    "\n",
    "df['Código'] = df['Código'].apply(lambda texto: findall(regex,texto)[0] )"
   ]
  },
  {
   "cell_type": "markdown",
   "id": "95060a3a-80cd-425f-8484-99661cd29c24",
   "metadata": {},
   "source": [
    "Verificando a substituição."
   ]
  },
  {
   "cell_type": "code",
   "execution_count": 21,
   "id": "b9a7c8c8-9c8a-4148-bf33-535d1241fcc0",
   "metadata": {},
   "outputs": [
    {
     "data": {
      "text/plain": [
       "0      CP2485\n",
       "1      CP1774\n",
       "2      CP3874\n",
       "3      CP2358\n",
       "4      CP2810\n",
       "        ...  \n",
       "160    CP4483\n",
       "161    CP4546\n",
       "162    CP9768\n",
       "163    CP4983\n",
       "164    CP2989\n",
       "Name: Código, Length: 165, dtype: object"
      ]
     },
     "execution_count": 21,
     "metadata": {},
     "output_type": "execute_result"
    }
   ],
   "source": [
    "df['Código']"
   ]
  },
  {
   "cell_type": "markdown",
   "id": "8a541421-9d16-4569-8164-27ccea109b51",
   "metadata": {},
   "source": [
    "Agora vamos para o preço, que é basicamente tirar a parte 'Sale Price: $'. A regex que encontrei foi ```\\d+\\.\\d+```"
   ]
  },
  {
   "cell_type": "code",
   "execution_count": 38,
   "id": "0d8e0cc5-4580-4c2d-8a2a-48d30bdbf57c",
   "metadata": {},
   "outputs": [],
   "source": [
    "df['Preço (USD)'] = df['Preço (USD)'].apply(lambda texto: findall('\\d+\\.\\d+', texto)[0] )"
   ]
  },
  {
   "cell_type": "markdown",
   "id": "ff1c4820-9689-4e60-8dd1-5d1e1f1d9cd7",
   "metadata": {},
   "source": [
    "Verificando"
   ]
  },
  {
   "cell_type": "code",
   "execution_count": 26,
   "id": "d07a324a-098c-4a1c-9c27-b715efb0db81",
   "metadata": {},
   "outputs": [
    {
     "data": {
      "text/plain": [
       "0    29.95\n",
       "1    39.95\n",
       "2    39.95\n",
       "3    44.95\n",
       "4    44.95\n",
       "Name: Preço (USD), dtype: object"
      ]
     },
     "execution_count": 26,
     "metadata": {},
     "output_type": "execute_result"
    }
   ],
   "source": [
    "df['Preço (USD)'].head()"
   ]
  },
  {
   "cell_type": "markdown",
   "id": "928998d4-491e-4c39-a813-ff9996023c75",
   "metadata": {},
   "source": [
    "Já para a altura, devemos retirar tanto a string 'Size: ', quanto o caractere final \". A regex que encontrei foi ```\\d{1}\\.?\\d*```"
   ]
  },
  {
   "cell_type": "code",
   "execution_count": 39,
   "id": "1f32473b-a8df-4246-9840-36fdc76f7e01",
   "metadata": {},
   "outputs": [],
   "source": [
    "df['Altura (Polegadas)'] = df['Altura (Polegadas)'].apply(lambda texto: findall('\\d{1}\\.?\\d*', texto)[0] )"
   ]
  },
  {
   "cell_type": "markdown",
   "id": "09876885-09ce-460b-8114-f160617b0ddc",
   "metadata": {},
   "source": [
    "Verificando as alturas"
   ]
  },
  {
   "cell_type": "code",
   "execution_count": 28,
   "id": "8d7dc058-ba12-4ccb-ba54-303f8bfb77b9",
   "metadata": {},
   "outputs": [
    {
     "data": {
      "text/plain": [
       "0         3\n",
       "1       3.5\n",
       "2         3\n",
       "3      3.25\n",
       "4      3.25\n",
       "       ... \n",
       "160     4.5\n",
       "161     4.5\n",
       "162     4.5\n",
       "163     4.5\n",
       "164     6.5\n",
       "Name: Altura (Polegadas), Length: 165, dtype: object"
      ]
     },
     "execution_count": 28,
     "metadata": {},
     "output_type": "execute_result"
    }
   ],
   "source": [
    "df['Altura (Polegadas)']"
   ]
  },
  {
   "cell_type": "markdown",
   "id": "170d0f31-49b1-447f-be36-58a2fa878528",
   "metadata": {},
   "source": [
    "## Conversão da tipagem"
   ]
  },
  {
   "cell_type": "markdown",
   "id": "eb7df839-9c15-4799-96aa-23b876b26b65",
   "metadata": {},
   "source": [
    "Feito a limpeza, vejamos qual a tipagem de cada coluna."
   ]
  },
  {
   "cell_type": "code",
   "execution_count": 41,
   "id": "63b9cab4-be90-4892-8fed-1fd2be9b4329",
   "metadata": {},
   "outputs": [
    {
     "data": {
      "text/plain": [
       "Código                object\n",
       "Nome                  object\n",
       "Altura (Polegadas)    object\n",
       "Material              object\n",
       "Preço (USD)           object\n",
       "dtype: object"
      ]
     },
     "execution_count": 41,
     "metadata": {},
     "output_type": "execute_result"
    }
   ],
   "source": [
    "df.dtypes"
   ]
  },
  {
   "cell_type": "markdown",
   "id": "6604b507-406f-412e-9807-16e2a27ff3f1",
   "metadata": {},
   "source": [
    "Deste modo, precisamos converter a altura e o preço em ```float``` para realizar análises exploratórias."
   ]
  },
  {
   "cell_type": "code",
   "execution_count": 43,
   "id": "226b28a5-e990-49ad-8848-5ca527bf17f4",
   "metadata": {},
   "outputs": [],
   "source": [
    "df['Altura (Polegadas)'] = df['Altura (Polegadas)'].astype(float)\n",
    "\n",
    "df['Preço (USD)'] = df['Preço (USD)'].astype(float)"
   ]
  },
  {
   "cell_type": "markdown",
   "id": "74e0ccd8-3067-40a9-9462-1219f23d0a07",
   "metadata": {},
   "source": [
    "Verificando se a conversão foi feita."
   ]
  },
  {
   "cell_type": "code",
   "execution_count": 46,
   "id": "3c10cf04-d692-4088-a4e5-c3c12194b5cb",
   "metadata": {},
   "outputs": [
    {
     "data": {
      "text/plain": [
       "Código                 object\n",
       "Nome                   object\n",
       "Altura (Polegadas)    float64\n",
       "Material               object\n",
       "Preço (USD)           float64\n",
       "dtype: object"
      ]
     },
     "execution_count": 46,
     "metadata": {},
     "output_type": "execute_result"
    }
   ],
   "source": [
    "df.dtypes"
   ]
  },
  {
   "cell_type": "code",
   "execution_count": null,
   "id": "0a00ae0f-9569-486f-a002-2c97b30dd947",
   "metadata": {},
   "outputs": [],
   "source": []
  }
 ],
 "metadata": {
  "kernelspec": {
   "display_name": "Python 3 (ipykernel)",
   "language": "python",
   "name": "python3"
  },
  "language_info": {
   "codemirror_mode": {
    "name": "ipython",
    "version": 3
   },
   "file_extension": ".py",
   "mimetype": "text/x-python",
   "name": "python",
   "nbconvert_exporter": "python",
   "pygments_lexer": "ipython3",
   "version": "3.8.10"
  }
 },
 "nbformat": 4,
 "nbformat_minor": 5
}
